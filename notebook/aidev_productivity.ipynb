{
 "cells": [
  {
   "cell_type": "code",
   "execution_count": 1,
   "id": "aacd8dfa",
   "metadata": {},
   "outputs": [],
   "source": [
    "# ===================== Basic Libraries =====================\n",
    "import numpy as np\n",
    "import pandas as pd\n",
    "import warnings\n",
    "warnings.filterwarnings('ignore')  # Suppress warnings\n",
    "\n",
    "# ===================== Visualization =====================\n",
    "import matplotlib.pyplot as plt\n",
    "import seaborn as sns\n",
    "\n",
    "# ===================== Data Preparation =====================\n",
    "from sklearn.model_selection import train_test_split, cross_val_score\n",
    "from sklearn.preprocessing import StandardScaler\n",
    "from imblearn.over_sampling import SMOTE\n",
    "from sklearn.base import BaseEstimator, TransformerMixin\n",
    "\n",
    "# ===================== Models =====================\n",
    "from sklearn.linear_model import LogisticRegression\n",
    "from sklearn.tree import DecisionTreeClassifier\n",
    "from sklearn.neighbors import KNeighborsClassifier\n",
    "from sklearn.naive_bayes import GaussianNB\n",
    "from sklearn.svm import SVC\n",
    "from sklearn.discriminant_analysis import LinearDiscriminantAnalysis\n",
    "\n",
    "# ===================== Evaluation =====================\n",
    "from sklearn.metrics import (\n",
    "    accuracy_score, f1_score, recall_score, precision_score,\n",
    "    classification_report, confusion_matrix, roc_auc_score\n",
    ")\n",
    "from sklearn.metrics import ConfusionMatrixDisplay\n",
    "\n",
    "# ===================== Pipelines =====================\n",
    "from imblearn.pipeline import Pipeline\n",
    "\n",
    "# ===================== Utilities =====================\n",
    "import joblib"
   ]
  },
  {
   "cell_type": "code",
   "execution_count": 2,
   "id": "25594961",
   "metadata": {},
   "outputs": [
    {
     "data": {
      "text/html": [
       "<div>\n",
       "<style scoped>\n",
       "    .dataframe tbody tr th:only-of-type {\n",
       "        vertical-align: middle;\n",
       "    }\n",
       "\n",
       "    .dataframe tbody tr th {\n",
       "        vertical-align: top;\n",
       "    }\n",
       "\n",
       "    .dataframe thead th {\n",
       "        text-align: right;\n",
       "    }\n",
       "</style>\n",
       "<table border=\"1\" class=\"dataframe\">\n",
       "  <thead>\n",
       "    <tr style=\"text-align: right;\">\n",
       "      <th></th>\n",
       "      <th>hours_coding</th>\n",
       "      <th>coffee_intake_mg</th>\n",
       "      <th>distractions</th>\n",
       "      <th>sleep_hours</th>\n",
       "      <th>commits</th>\n",
       "      <th>bugs_reported</th>\n",
       "      <th>ai_usage_hours</th>\n",
       "      <th>cognitive_load</th>\n",
       "      <th>task_success</th>\n",
       "    </tr>\n",
       "  </thead>\n",
       "  <tbody>\n",
       "    <tr>\n",
       "      <th>0</th>\n",
       "      <td>5.99</td>\n",
       "      <td>600</td>\n",
       "      <td>1</td>\n",
       "      <td>5.8</td>\n",
       "      <td>2</td>\n",
       "      <td>1</td>\n",
       "      <td>0.71</td>\n",
       "      <td>5.4</td>\n",
       "      <td>1</td>\n",
       "    </tr>\n",
       "    <tr>\n",
       "      <th>1</th>\n",
       "      <td>4.72</td>\n",
       "      <td>568</td>\n",
       "      <td>2</td>\n",
       "      <td>6.9</td>\n",
       "      <td>5</td>\n",
       "      <td>3</td>\n",
       "      <td>1.75</td>\n",
       "      <td>4.7</td>\n",
       "      <td>1</td>\n",
       "    </tr>\n",
       "    <tr>\n",
       "      <th>2</th>\n",
       "      <td>6.30</td>\n",
       "      <td>560</td>\n",
       "      <td>1</td>\n",
       "      <td>8.9</td>\n",
       "      <td>2</td>\n",
       "      <td>0</td>\n",
       "      <td>2.27</td>\n",
       "      <td>2.2</td>\n",
       "      <td>1</td>\n",
       "    </tr>\n",
       "    <tr>\n",
       "      <th>3</th>\n",
       "      <td>8.05</td>\n",
       "      <td>600</td>\n",
       "      <td>7</td>\n",
       "      <td>6.3</td>\n",
       "      <td>9</td>\n",
       "      <td>5</td>\n",
       "      <td>1.40</td>\n",
       "      <td>5.9</td>\n",
       "      <td>0</td>\n",
       "    </tr>\n",
       "    <tr>\n",
       "      <th>4</th>\n",
       "      <td>4.53</td>\n",
       "      <td>421</td>\n",
       "      <td>6</td>\n",
       "      <td>6.9</td>\n",
       "      <td>4</td>\n",
       "      <td>0</td>\n",
       "      <td>1.26</td>\n",
       "      <td>6.3</td>\n",
       "      <td>1</td>\n",
       "    </tr>\n",
       "  </tbody>\n",
       "</table>\n",
       "</div>"
      ],
      "text/plain": [
       "   hours_coding  coffee_intake_mg  distractions  sleep_hours  commits  \\\n",
       "0          5.99               600             1          5.8        2   \n",
       "1          4.72               568             2          6.9        5   \n",
       "2          6.30               560             1          8.9        2   \n",
       "3          8.05               600             7          6.3        9   \n",
       "4          4.53               421             6          6.9        4   \n",
       "\n",
       "   bugs_reported  ai_usage_hours  cognitive_load  task_success  \n",
       "0              1            0.71             5.4             1  \n",
       "1              3            1.75             4.7             1  \n",
       "2              0            2.27             2.2             1  \n",
       "3              5            1.40             5.9             0  \n",
       "4              0            1.26             6.3             1  "
      ]
     },
     "execution_count": 2,
     "metadata": {},
     "output_type": "execute_result"
    }
   ],
   "source": [
    "aidev = pd.read_csv(\"ai_dev_productivity.csv\")\n",
    "\n",
    "aidev.head(5)"
   ]
  },
  {
   "cell_type": "code",
   "execution_count": 3,
   "id": "85689e35",
   "metadata": {},
   "outputs": [
    {
     "name": "stdout",
     "output_type": "stream",
     "text": [
      "<class 'pandas.core.frame.DataFrame'>\n",
      "RangeIndex: 500 entries, 0 to 499\n",
      "Data columns (total 9 columns):\n",
      " #   Column            Non-Null Count  Dtype  \n",
      "---  ------            --------------  -----  \n",
      " 0   hours_coding      500 non-null    float64\n",
      " 1   coffee_intake_mg  500 non-null    int64  \n",
      " 2   distractions      500 non-null    int64  \n",
      " 3   sleep_hours       500 non-null    float64\n",
      " 4   commits           500 non-null    int64  \n",
      " 5   bugs_reported     500 non-null    int64  \n",
      " 6   ai_usage_hours    500 non-null    float64\n",
      " 7   cognitive_load    500 non-null    float64\n",
      " 8   task_success      500 non-null    int64  \n",
      "dtypes: float64(4), int64(5)\n",
      "memory usage: 35.3 KB\n"
     ]
    }
   ],
   "source": [
    "aidev.info()"
   ]
  },
  {
   "cell_type": "code",
   "execution_count": 4,
   "id": "0d2903bc",
   "metadata": {},
   "outputs": [
    {
     "data": {
      "text/html": [
       "<div>\n",
       "<style scoped>\n",
       "    .dataframe tbody tr th:only-of-type {\n",
       "        vertical-align: middle;\n",
       "    }\n",
       "\n",
       "    .dataframe tbody tr th {\n",
       "        vertical-align: top;\n",
       "    }\n",
       "\n",
       "    .dataframe thead th {\n",
       "        text-align: right;\n",
       "    }\n",
       "</style>\n",
       "<table border=\"1\" class=\"dataframe\">\n",
       "  <thead>\n",
       "    <tr style=\"text-align: right;\">\n",
       "      <th></th>\n",
       "      <th>hours_coding</th>\n",
       "      <th>coffee_intake_mg</th>\n",
       "      <th>distractions</th>\n",
       "      <th>sleep_hours</th>\n",
       "      <th>commits</th>\n",
       "      <th>bugs_reported</th>\n",
       "      <th>ai_usage_hours</th>\n",
       "      <th>cognitive_load</th>\n",
       "      <th>task_success</th>\n",
       "    </tr>\n",
       "  </thead>\n",
       "  <tbody>\n",
       "    <tr>\n",
       "      <th>count</th>\n",
       "      <td>500.000000</td>\n",
       "      <td>500.000000</td>\n",
       "      <td>500.000000</td>\n",
       "      <td>500.000000</td>\n",
       "      <td>500.00000</td>\n",
       "      <td>500.000000</td>\n",
       "      <td>500.000000</td>\n",
       "      <td>500.000000</td>\n",
       "      <td>500.000000</td>\n",
       "    </tr>\n",
       "    <tr>\n",
       "      <th>mean</th>\n",
       "      <td>5.015600</td>\n",
       "      <td>463.192000</td>\n",
       "      <td>2.976000</td>\n",
       "      <td>6.975800</td>\n",
       "      <td>4.60800</td>\n",
       "      <td>0.858000</td>\n",
       "      <td>1.510920</td>\n",
       "      <td>4.498200</td>\n",
       "      <td>0.606000</td>\n",
       "    </tr>\n",
       "    <tr>\n",
       "      <th>std</th>\n",
       "      <td>1.947253</td>\n",
       "      <td>142.334991</td>\n",
       "      <td>1.678409</td>\n",
       "      <td>1.455965</td>\n",
       "      <td>2.70499</td>\n",
       "      <td>1.102846</td>\n",
       "      <td>1.085557</td>\n",
       "      <td>1.868861</td>\n",
       "      <td>0.489124</td>\n",
       "    </tr>\n",
       "    <tr>\n",
       "      <th>min</th>\n",
       "      <td>0.000000</td>\n",
       "      <td>6.000000</td>\n",
       "      <td>0.000000</td>\n",
       "      <td>3.000000</td>\n",
       "      <td>0.00000</td>\n",
       "      <td>0.000000</td>\n",
       "      <td>0.000000</td>\n",
       "      <td>1.000000</td>\n",
       "      <td>0.000000</td>\n",
       "    </tr>\n",
       "    <tr>\n",
       "      <th>25%</th>\n",
       "      <td>3.600000</td>\n",
       "      <td>369.500000</td>\n",
       "      <td>2.000000</td>\n",
       "      <td>6.100000</td>\n",
       "      <td>3.00000</td>\n",
       "      <td>0.000000</td>\n",
       "      <td>0.697500</td>\n",
       "      <td>3.175000</td>\n",
       "      <td>0.000000</td>\n",
       "    </tr>\n",
       "    <tr>\n",
       "      <th>50%</th>\n",
       "      <td>5.030000</td>\n",
       "      <td>500.500000</td>\n",
       "      <td>3.000000</td>\n",
       "      <td>6.950000</td>\n",
       "      <td>5.00000</td>\n",
       "      <td>0.000000</td>\n",
       "      <td>1.260000</td>\n",
       "      <td>4.400000</td>\n",
       "      <td>1.000000</td>\n",
       "    </tr>\n",
       "    <tr>\n",
       "      <th>75%</th>\n",
       "      <td>6.275000</td>\n",
       "      <td>600.000000</td>\n",
       "      <td>4.000000</td>\n",
       "      <td>7.900000</td>\n",
       "      <td>6.00000</td>\n",
       "      <td>2.000000</td>\n",
       "      <td>2.070000</td>\n",
       "      <td>5.800000</td>\n",
       "      <td>1.000000</td>\n",
       "    </tr>\n",
       "    <tr>\n",
       "      <th>max</th>\n",
       "      <td>12.000000</td>\n",
       "      <td>600.000000</td>\n",
       "      <td>8.000000</td>\n",
       "      <td>10.000000</td>\n",
       "      <td>13.00000</td>\n",
       "      <td>5.000000</td>\n",
       "      <td>6.360000</td>\n",
       "      <td>10.000000</td>\n",
       "      <td>1.000000</td>\n",
       "    </tr>\n",
       "  </tbody>\n",
       "</table>\n",
       "</div>"
      ],
      "text/plain": [
       "       hours_coding  coffee_intake_mg  distractions  sleep_hours    commits  \\\n",
       "count    500.000000        500.000000    500.000000   500.000000  500.00000   \n",
       "mean       5.015600        463.192000      2.976000     6.975800    4.60800   \n",
       "std        1.947253        142.334991      1.678409     1.455965    2.70499   \n",
       "min        0.000000          6.000000      0.000000     3.000000    0.00000   \n",
       "25%        3.600000        369.500000      2.000000     6.100000    3.00000   \n",
       "50%        5.030000        500.500000      3.000000     6.950000    5.00000   \n",
       "75%        6.275000        600.000000      4.000000     7.900000    6.00000   \n",
       "max       12.000000        600.000000      8.000000    10.000000   13.00000   \n",
       "\n",
       "       bugs_reported  ai_usage_hours  cognitive_load  task_success  \n",
       "count     500.000000      500.000000      500.000000    500.000000  \n",
       "mean        0.858000        1.510920        4.498200      0.606000  \n",
       "std         1.102846        1.085557        1.868861      0.489124  \n",
       "min         0.000000        0.000000        1.000000      0.000000  \n",
       "25%         0.000000        0.697500        3.175000      0.000000  \n",
       "50%         0.000000        1.260000        4.400000      1.000000  \n",
       "75%         2.000000        2.070000        5.800000      1.000000  \n",
       "max         5.000000        6.360000       10.000000      1.000000  "
      ]
     },
     "execution_count": 4,
     "metadata": {},
     "output_type": "execute_result"
    }
   ],
   "source": [
    "aidev.describe()"
   ]
  },
  {
   "cell_type": "markdown",
   "id": "d8d4e63f",
   "metadata": {},
   "source": [
    "## **Analyzing relationships between data features**"
   ]
  },
  {
   "cell_type": "markdown",
   "id": "929e7f09",
   "metadata": {},
   "source": [
    "### What is the overall task success rate?"
   ]
  },
  {
   "cell_type": "code",
   "execution_count": 5,
   "id": "bd973f63",
   "metadata": {},
   "outputs": [
    {
     "name": "stdout",
     "output_type": "stream",
     "text": [
      "Overall task success rate: 60.60%\n"
     ]
    }
   ],
   "source": [
    "success_rate = aidev[\"task_success\"].mean()\n",
    "print(f\"Overall task success rate: {success_rate:.2%}\")"
   ]
  },
  {
   "cell_type": "markdown",
   "id": "3639028d",
   "metadata": {},
   "source": [
    "### Sleep hours effect on productivity"
   ]
  },
  {
   "cell_type": "code",
   "execution_count": 6,
   "id": "822b1f51",
   "metadata": {},
   "outputs": [
    {
     "data": {
      "text/html": [
       "<div>\n",
       "<style scoped>\n",
       "    .dataframe tbody tr th:only-of-type {\n",
       "        vertical-align: middle;\n",
       "    }\n",
       "\n",
       "    .dataframe tbody tr th {\n",
       "        vertical-align: top;\n",
       "    }\n",
       "\n",
       "    .dataframe thead th {\n",
       "        text-align: right;\n",
       "    }\n",
       "</style>\n",
       "<table border=\"1\" class=\"dataframe\">\n",
       "  <thead>\n",
       "    <tr style=\"text-align: right;\">\n",
       "      <th></th>\n",
       "      <th>hours_coding</th>\n",
       "      <th>coffee_intake_mg</th>\n",
       "      <th>distractions</th>\n",
       "      <th>sleep_hours</th>\n",
       "      <th>commits</th>\n",
       "      <th>bugs_reported</th>\n",
       "      <th>ai_usage_hours</th>\n",
       "      <th>cognitive_load</th>\n",
       "      <th>task_success</th>\n",
       "      <th>sleepLabel</th>\n",
       "    </tr>\n",
       "  </thead>\n",
       "  <tbody>\n",
       "    <tr>\n",
       "      <th>0</th>\n",
       "      <td>5.99</td>\n",
       "      <td>600</td>\n",
       "      <td>1</td>\n",
       "      <td>5.8</td>\n",
       "      <td>2</td>\n",
       "      <td>1</td>\n",
       "      <td>0.71</td>\n",
       "      <td>5.4</td>\n",
       "      <td>1</td>\n",
       "      <td>&lt;6</td>\n",
       "    </tr>\n",
       "    <tr>\n",
       "      <th>1</th>\n",
       "      <td>4.72</td>\n",
       "      <td>568</td>\n",
       "      <td>2</td>\n",
       "      <td>6.9</td>\n",
       "      <td>5</td>\n",
       "      <td>3</td>\n",
       "      <td>1.75</td>\n",
       "      <td>4.7</td>\n",
       "      <td>1</td>\n",
       "      <td>6-8</td>\n",
       "    </tr>\n",
       "    <tr>\n",
       "      <th>2</th>\n",
       "      <td>6.30</td>\n",
       "      <td>560</td>\n",
       "      <td>1</td>\n",
       "      <td>8.9</td>\n",
       "      <td>2</td>\n",
       "      <td>0</td>\n",
       "      <td>2.27</td>\n",
       "      <td>2.2</td>\n",
       "      <td>1</td>\n",
       "      <td>8-10</td>\n",
       "    </tr>\n",
       "    <tr>\n",
       "      <th>3</th>\n",
       "      <td>8.05</td>\n",
       "      <td>600</td>\n",
       "      <td>7</td>\n",
       "      <td>6.3</td>\n",
       "      <td>9</td>\n",
       "      <td>5</td>\n",
       "      <td>1.40</td>\n",
       "      <td>5.9</td>\n",
       "      <td>0</td>\n",
       "      <td>6-8</td>\n",
       "    </tr>\n",
       "    <tr>\n",
       "      <th>4</th>\n",
       "      <td>4.53</td>\n",
       "      <td>421</td>\n",
       "      <td>6</td>\n",
       "      <td>6.9</td>\n",
       "      <td>4</td>\n",
       "      <td>0</td>\n",
       "      <td>1.26</td>\n",
       "      <td>6.3</td>\n",
       "      <td>1</td>\n",
       "      <td>6-8</td>\n",
       "    </tr>\n",
       "  </tbody>\n",
       "</table>\n",
       "</div>"
      ],
      "text/plain": [
       "   hours_coding  coffee_intake_mg  distractions  sleep_hours  commits  \\\n",
       "0          5.99               600             1          5.8        2   \n",
       "1          4.72               568             2          6.9        5   \n",
       "2          6.30               560             1          8.9        2   \n",
       "3          8.05               600             7          6.3        9   \n",
       "4          4.53               421             6          6.9        4   \n",
       "\n",
       "   bugs_reported  ai_usage_hours  cognitive_load  task_success sleepLabel  \n",
       "0              1            0.71             5.4             1         <6  \n",
       "1              3            1.75             4.7             1        6-8  \n",
       "2              0            2.27             2.2             1       8-10  \n",
       "3              5            1.40             5.9             0        6-8  \n",
       "4              0            1.26             6.3             1        6-8  "
      ]
     },
     "execution_count": 6,
     "metadata": {},
     "output_type": "execute_result"
    }
   ],
   "source": [
    "aidev['sleepLabel'] = pd.cut(x=aidev['sleep_hours'], bins=[0, 6, 8, 10],\n",
    "                     labels=['<6', '6-8', '8-10'])\n",
    "\n",
    "aidev.head(5)"
   ]
  },
  {
   "cell_type": "code",
   "execution_count": 7,
   "id": "92c872d8",
   "metadata": {},
   "outputs": [
    {
     "name": "stdout",
     "output_type": "stream",
     "text": [
      "Task success rate by sleep category:\n"
     ]
    },
    {
     "data": {
      "text/html": [
       "<div>\n",
       "<style scoped>\n",
       "    .dataframe tbody tr th:only-of-type {\n",
       "        vertical-align: middle;\n",
       "    }\n",
       "\n",
       "    .dataframe tbody tr th {\n",
       "        vertical-align: top;\n",
       "    }\n",
       "\n",
       "    .dataframe thead th {\n",
       "        text-align: right;\n",
       "    }\n",
       "</style>\n",
       "<table border=\"1\" class=\"dataframe\">\n",
       "  <thead>\n",
       "    <tr style=\"text-align: right;\">\n",
       "      <th></th>\n",
       "      <th>task_success</th>\n",
       "      <th>bugs_reported</th>\n",
       "      <th>cognitive_load</th>\n",
       "    </tr>\n",
       "    <tr>\n",
       "      <th>sleepLabel</th>\n",
       "      <th></th>\n",
       "      <th></th>\n",
       "      <th></th>\n",
       "    </tr>\n",
       "  </thead>\n",
       "  <tbody>\n",
       "    <tr>\n",
       "      <th>&lt;6</th>\n",
       "      <td>0.459677</td>\n",
       "      <td>1.338710</td>\n",
       "      <td>6.285484</td>\n",
       "    </tr>\n",
       "    <tr>\n",
       "      <th>6-8</th>\n",
       "      <td>0.657795</td>\n",
       "      <td>0.870722</td>\n",
       "      <td>4.412928</td>\n",
       "    </tr>\n",
       "    <tr>\n",
       "      <th>8-10</th>\n",
       "      <td>0.646018</td>\n",
       "      <td>0.300885</td>\n",
       "      <td>2.735398</td>\n",
       "    </tr>\n",
       "  </tbody>\n",
       "</table>\n",
       "</div>"
      ],
      "text/plain": [
       "            task_success  bugs_reported  cognitive_load\n",
       "sleepLabel                                             \n",
       "<6              0.459677       1.338710        6.285484\n",
       "6-8             0.657795       0.870722        4.412928\n",
       "8-10            0.646018       0.300885        2.735398"
      ]
     },
     "execution_count": 7,
     "metadata": {},
     "output_type": "execute_result"
    }
   ],
   "source": [
    "print('Task success rate by sleep category:')\n",
    "aidev.groupby('sleepLabel')[['task_success','bugs_reported','cognitive_load']].mean()"
   ]
  },
  {
   "cell_type": "code",
   "execution_count": 8,
   "id": "4465b7c5",
   "metadata": {},
   "outputs": [
    {
     "name": "stdout",
     "output_type": "stream",
     "text": [
      "effect of sleeping less than 6 hours results in 87.48% more bugs\n"
     ]
    }
   ],
   "source": [
    "bugs_ratio = aidev[aidev['sleep_hours']<6]['bugs_reported'].mean() / aidev[aidev['sleep_hours']>=6]['bugs_reported'].mean()\n",
    "print(f\"effect of sleeping less than 6 hours results in {(bugs_ratio - 1) * 100:.2f}% more bugs\")"
   ]
  },
  {
   "cell_type": "code",
   "execution_count": 9,
   "id": "2aaf6b4c",
   "metadata": {},
   "outputs": [
    {
     "data": {
      "image/png": "[encoded data removed]",
      "text/plain": [
       "<Figure size 640x480 with 1 Axes>"
      ]
     },
     "metadata": {},
     "output_type": "display_data"
    }
   ],
   "source": [
    "plt.scatter(aidev['sleep_hours'],aidev['commits'], c='darkseagreen')\n",
    "plt.show()"
   ]
  },
  {
   "cell_type": "markdown",
   "id": "983a7c03",
   "metadata": {},
   "source": [
    "### **Ai usage effect**"
   ]
  },
  {
   "cell_type": "code",
   "execution_count": 10,
   "id": "383a733a",
   "metadata": {},
   "outputs": [
    {
     "data": {
      "text/html": [
       "<div>\n",
       "<style scoped>\n",
       "    .dataframe tbody tr th:only-of-type {\n",
       "        vertical-align: middle;\n",
       "    }\n",
       "\n",
       "    .dataframe tbody tr th {\n",
       "        vertical-align: top;\n",
       "    }\n",
       "\n",
       "    .dataframe thead th {\n",
       "        text-align: right;\n",
       "    }\n",
       "</style>\n",
       "<table border=\"1\" class=\"dataframe\">\n",
       "  <thead>\n",
       "    <tr style=\"text-align: right;\">\n",
       "      <th></th>\n",
       "      <th>hours_coding</th>\n",
       "      <th>coffee_intake_mg</th>\n",
       "      <th>distractions</th>\n",
       "      <th>sleep_hours</th>\n",
       "      <th>commits</th>\n",
       "      <th>bugs_reported</th>\n",
       "      <th>ai_usage_hours</th>\n",
       "      <th>cognitive_load</th>\n",
       "      <th>task_success</th>\n",
       "      <th>sleepLabel</th>\n",
       "      <th>no_ai_hours</th>\n",
       "    </tr>\n",
       "  </thead>\n",
       "  <tbody>\n",
       "    <tr>\n",
       "      <th>0</th>\n",
       "      <td>5.99</td>\n",
       "      <td>600</td>\n",
       "      <td>1</td>\n",
       "      <td>5.8</td>\n",
       "      <td>2</td>\n",
       "      <td>1</td>\n",
       "      <td>0.71</td>\n",
       "      <td>5.4</td>\n",
       "      <td>1</td>\n",
       "      <td>&lt;6</td>\n",
       "      <td>5.28</td>\n",
       "    </tr>\n",
       "    <tr>\n",
       "      <th>1</th>\n",
       "      <td>4.72</td>\n",
       "      <td>568</td>\n",
       "      <td>2</td>\n",
       "      <td>6.9</td>\n",
       "      <td>5</td>\n",
       "      <td>3</td>\n",
       "      <td>1.75</td>\n",
       "      <td>4.7</td>\n",
       "      <td>1</td>\n",
       "      <td>6-8</td>\n",
       "      <td>2.97</td>\n",
       "    </tr>\n",
       "    <tr>\n",
       "      <th>2</th>\n",
       "      <td>6.30</td>\n",
       "      <td>560</td>\n",
       "      <td>1</td>\n",
       "      <td>8.9</td>\n",
       "      <td>2</td>\n",
       "      <td>0</td>\n",
       "      <td>2.27</td>\n",
       "      <td>2.2</td>\n",
       "      <td>1</td>\n",
       "      <td>8-10</td>\n",
       "      <td>4.03</td>\n",
       "    </tr>\n",
       "    <tr>\n",
       "      <th>3</th>\n",
       "      <td>8.05</td>\n",
       "      <td>600</td>\n",
       "      <td>7</td>\n",
       "      <td>6.3</td>\n",
       "      <td>9</td>\n",
       "      <td>5</td>\n",
       "      <td>1.40</td>\n",
       "      <td>5.9</td>\n",
       "      <td>0</td>\n",
       "      <td>6-8</td>\n",
       "      <td>6.65</td>\n",
       "    </tr>\n",
       "    <tr>\n",
       "      <th>4</th>\n",
       "      <td>4.53</td>\n",
       "      <td>421</td>\n",
       "      <td>6</td>\n",
       "      <td>6.9</td>\n",
       "      <td>4</td>\n",
       "      <td>0</td>\n",
       "      <td>1.26</td>\n",
       "      <td>6.3</td>\n",
       "      <td>1</td>\n",
       "      <td>6-8</td>\n",
       "      <td>3.27</td>\n",
       "    </tr>\n",
       "    <tr>\n",
       "      <th>...</th>\n",
       "      <td>...</td>\n",
       "      <td>...</td>\n",
       "      <td>...</td>\n",
       "      <td>...</td>\n",
       "      <td>...</td>\n",
       "      <td>...</td>\n",
       "      <td>...</td>\n",
       "      <td>...</td>\n",
       "      <td>...</td>\n",
       "      <td>...</td>\n",
       "      <td>...</td>\n",
       "    </tr>\n",
       "    <tr>\n",
       "      <th>495</th>\n",
       "      <td>6.08</td>\n",
       "      <td>594</td>\n",
       "      <td>1</td>\n",
       "      <td>5.3</td>\n",
       "      <td>3</td>\n",
       "      <td>0</td>\n",
       "      <td>0.91</td>\n",
       "      <td>6.8</td>\n",
       "      <td>1</td>\n",
       "      <td>&lt;6</td>\n",
       "      <td>5.17</td>\n",
       "    </tr>\n",
       "    <tr>\n",
       "      <th>496</th>\n",
       "      <td>2.93</td>\n",
       "      <td>382</td>\n",
       "      <td>2</td>\n",
       "      <td>6.7</td>\n",
       "      <td>3</td>\n",
       "      <td>2</td>\n",
       "      <td>1.38</td>\n",
       "      <td>5.9</td>\n",
       "      <td>0</td>\n",
       "      <td>6-8</td>\n",
       "      <td>1.55</td>\n",
       "    </tr>\n",
       "    <tr>\n",
       "      <th>497</th>\n",
       "      <td>4.62</td>\n",
       "      <td>494</td>\n",
       "      <td>4</td>\n",
       "      <td>7.5</td>\n",
       "      <td>2</td>\n",
       "      <td>0</td>\n",
       "      <td>0.41</td>\n",
       "      <td>4.5</td>\n",
       "      <td>1</td>\n",
       "      <td>6-8</td>\n",
       "      <td>4.21</td>\n",
       "    </tr>\n",
       "    <tr>\n",
       "      <th>498</th>\n",
       "      <td>3.25</td>\n",
       "      <td>296</td>\n",
       "      <td>6</td>\n",
       "      <td>6.9</td>\n",
       "      <td>1</td>\n",
       "      <td>0</td>\n",
       "      <td>1.52</td>\n",
       "      <td>6.3</td>\n",
       "      <td>0</td>\n",
       "      <td>6-8</td>\n",
       "      <td>1.73</td>\n",
       "    </tr>\n",
       "    <tr>\n",
       "      <th>499</th>\n",
       "      <td>2.23</td>\n",
       "      <td>252</td>\n",
       "      <td>4</td>\n",
       "      <td>8.8</td>\n",
       "      <td>0</td>\n",
       "      <td>0</td>\n",
       "      <td>1.05</td>\n",
       "      <td>2.6</td>\n",
       "      <td>0</td>\n",
       "      <td>8-10</td>\n",
       "      <td>1.18</td>\n",
       "    </tr>\n",
       "  </tbody>\n",
       "</table>\n",
       "<p>500 rows × 11 columns</p>\n",
       "</div>"
      ],
      "text/plain": [
       "     hours_coding  coffee_intake_mg  distractions  sleep_hours  commits  \\\n",
       "0            5.99               600             1          5.8        2   \n",
       "1            4.72               568             2          6.9        5   \n",
       "2            6.30               560             1          8.9        2   \n",
       "3            8.05               600             7          6.3        9   \n",
       "4            4.53               421             6          6.9        4   \n",
       "..            ...               ...           ...          ...      ...   \n",
       "495          6.08               594             1          5.3        3   \n",
       "496          2.93               382             2          6.7        3   \n",
       "497          4.62               494             4          7.5        2   \n",
       "498          3.25               296             6          6.9        1   \n",
       "499          2.23               252             4          8.8        0   \n",
       "\n",
       "     bugs_reported  ai_usage_hours  cognitive_load  task_success sleepLabel  \\\n",
       "0                1            0.71             5.4             1         <6   \n",
       "1                3            1.75             4.7             1        6-8   \n",
       "2                0            2.27             2.2             1       8-10   \n",
       "3                5            1.40             5.9             0        6-8   \n",
       "4                0            1.26             6.3             1        6-8   \n",
       "..             ...             ...             ...           ...        ...   \n",
       "495              0            0.91             6.8             1         <6   \n",
       "496              2            1.38             5.9             0        6-8   \n",
       "497              0            0.41             4.5             1        6-8   \n",
       "498              0            1.52             6.3             0        6-8   \n",
       "499              0            1.05             2.6             0       8-10   \n",
       "\n",
       "     no_ai_hours  \n",
       "0           5.28  \n",
       "1           2.97  \n",
       "2           4.03  \n",
       "3           6.65  \n",
       "4           3.27  \n",
       "..           ...  \n",
       "495         5.17  \n",
       "496         1.55  \n",
       "497         4.21  \n",
       "498         1.73  \n",
       "499         1.18  \n",
       "\n",
       "[500 rows x 11 columns]"
      ]
     },
     "execution_count": 10,
     "metadata": {},
     "output_type": "execute_result"
    }
   ],
   "source": [
    "aidev['no_ai_hours'] = aidev['hours_coding']- aidev['ai_usage_hours']\n",
    "aidev"
   ]
  },
  {
   "cell_type": "code",
   "execution_count": 11,
   "id": "fb0fdee5",
   "metadata": {},
   "outputs": [
    {
     "data": {
      "text/html": [
       "<div>\n",
       "<style scoped>\n",
       "    .dataframe tbody tr th:only-of-type {\n",
       "        vertical-align: middle;\n",
       "    }\n",
       "\n",
       "    .dataframe tbody tr th {\n",
       "        vertical-align: top;\n",
       "    }\n",
       "\n",
       "    .dataframe thead th {\n",
       "        text-align: right;\n",
       "    }\n",
       "</style>\n",
       "<table border=\"1\" class=\"dataframe\">\n",
       "  <thead>\n",
       "    <tr style=\"text-align: right;\">\n",
       "      <th></th>\n",
       "      <th>commits</th>\n",
       "      <th>bugs_reported</th>\n",
       "      <th>cognitive_load</th>\n",
       "      <th>no_ai_hours</th>\n",
       "      <th>task_success</th>\n",
       "    </tr>\n",
       "    <tr>\n",
       "      <th>aiUsageLabel</th>\n",
       "      <th></th>\n",
       "      <th></th>\n",
       "      <th></th>\n",
       "      <th></th>\n",
       "      <th></th>\n",
       "    </tr>\n",
       "  </thead>\n",
       "  <tbody>\n",
       "    <tr>\n",
       "      <th>&lt;1</th>\n",
       "      <td>3.755208</td>\n",
       "      <td>0.671875</td>\n",
       "      <td>4.319792</td>\n",
       "      <td>3.538021</td>\n",
       "      <td>0.479167</td>\n",
       "    </tr>\n",
       "    <tr>\n",
       "      <th>1-3</th>\n",
       "      <td>4.835938</td>\n",
       "      <td>0.968750</td>\n",
       "      <td>4.568750</td>\n",
       "      <td>3.496836</td>\n",
       "      <td>0.667969</td>\n",
       "    </tr>\n",
       "    <tr>\n",
       "      <th>3-5</th>\n",
       "      <td>6.636364</td>\n",
       "      <td>1.045455</td>\n",
       "      <td>4.763636</td>\n",
       "      <td>3.513409</td>\n",
       "      <td>0.795455</td>\n",
       "    </tr>\n",
       "    <tr>\n",
       "      <th>&gt;5</th>\n",
       "      <td>8.833333</td>\n",
       "      <td>0.833333</td>\n",
       "      <td>5.333333</td>\n",
       "      <td>3.876667</td>\n",
       "      <td>0.833333</td>\n",
       "    </tr>\n",
       "  </tbody>\n",
       "</table>\n",
       "</div>"
      ],
      "text/plain": [
       "               commits  bugs_reported  cognitive_load  no_ai_hours  \\\n",
       "aiUsageLabel                                                         \n",
       "<1            3.755208       0.671875        4.319792     3.538021   \n",
       "1-3           4.835938       0.968750        4.568750     3.496836   \n",
       "3-5           6.636364       1.045455        4.763636     3.513409   \n",
       ">5            8.833333       0.833333        5.333333     3.876667   \n",
       "\n",
       "              task_success  \n",
       "aiUsageLabel                \n",
       "<1                0.479167  \n",
       "1-3               0.667969  \n",
       "3-5               0.795455  \n",
       ">5                0.833333  "
      ]
     },
     "execution_count": 11,
     "metadata": {},
     "output_type": "execute_result"
    }
   ],
   "source": [
    "aidev['aiUsageLabel'] = pd.cut(x=aidev['ai_usage_hours'], bins=[0, 1, 3, 5, 6.5],\n",
    "                     labels=['<1', '1-3', '3-5','>5'])\n",
    "\n",
    "ai_comparsion = aidev.groupby('aiUsageLabel')[['commits','bugs_reported','cognitive_load','no_ai_hours','task_success']].mean()\n",
    "ai_comparsion"
   ]
  },
  {
   "cell_type": "code",
   "execution_count": 12,
   "id": "41b5a57b",
   "metadata": {},
   "outputs": [
    {
     "name": "stdout",
     "output_type": "stream",
     "text": [
      "Moderate usage (1-3) increased commits by 28.78%\n"
     ]
    }
   ],
   "source": [
    "commits_diff = (ai_comparsion.loc['1-3','commits'] - ai_comparsion.loc['<1','commits'])/ai_comparsion.loc['<1','commits']\n",
    "print(f\"Moderate usage (1-3) increased commits by {commits_diff * 100:.2f}%\")"
   ]
  },
  {
   "cell_type": "code",
   "execution_count": 13,
   "id": "17338321",
   "metadata": {},
   "outputs": [
    {
     "name": "stdout",
     "output_type": "stream",
     "text": [
      "Moderate usage (3-5) increased Task success by 66.01%\n"
     ]
    }
   ],
   "source": [
    "Tsuccess_diff = (ai_comparsion.loc['3-5','task_success'] - ai_comparsion.loc['<1','task_success'])/ai_comparsion.loc['<1','task_success']\n",
    "print(f\"Moderate usage (3-5) increased Task success by {Tsuccess_diff * 100:.2f}%\")"
   ]
  },
  {
   "cell_type": "code",
   "execution_count": 14,
   "id": "4054e781",
   "metadata": {},
   "outputs": [
    {
     "name": "stdout",
     "output_type": "stream",
     "text": [
      "Exessive usage (>5) increased cognitive load by 23.46%\n"
     ]
    }
   ],
   "source": [
    "cog_diff = (ai_comparsion.loc['>5','cognitive_load'] - ai_comparsion.loc['<1','cognitive_load'])/ai_comparsion.loc['<1','cognitive_load']\n",
    "print(f\"Exessive usage (>5) increased cognitive load by {cog_diff * 100:.2f}%\")"
   ]
  },
  {
   "cell_type": "markdown",
   "id": "903297d4",
   "metadata": {},
   "source": [
    "### **Coffee intake effect**"
   ]
  },
  {
   "cell_type": "code",
   "execution_count": 15,
   "id": "d9870f51",
   "metadata": {},
   "outputs": [
    {
     "name": "stdout",
     "output_type": "stream",
     "text": [
      ">500       250\n",
      "300-500    170\n",
      "<300        80\n",
      "Name: coffeeLabel, dtype: int64\n"
     ]
    },
    {
     "data": {
      "text/html": [
       "<div>\n",
       "<style scoped>\n",
       "    .dataframe tbody tr th:only-of-type {\n",
       "        vertical-align: middle;\n",
       "    }\n",
       "\n",
       "    .dataframe tbody tr th {\n",
       "        vertical-align: top;\n",
       "    }\n",
       "\n",
       "    .dataframe thead th {\n",
       "        text-align: right;\n",
       "    }\n",
       "</style>\n",
       "<table border=\"1\" class=\"dataframe\">\n",
       "  <thead>\n",
       "    <tr style=\"text-align: right;\">\n",
       "      <th></th>\n",
       "      <th>hours_coding</th>\n",
       "      <th>coffee_intake_mg</th>\n",
       "      <th>distractions</th>\n",
       "      <th>sleep_hours</th>\n",
       "      <th>commits</th>\n",
       "      <th>bugs_reported</th>\n",
       "      <th>ai_usage_hours</th>\n",
       "      <th>cognitive_load</th>\n",
       "      <th>task_success</th>\n",
       "      <th>sleepLabel</th>\n",
       "      <th>no_ai_hours</th>\n",
       "      <th>aiUsageLabel</th>\n",
       "      <th>coffeeLabel</th>\n",
       "    </tr>\n",
       "  </thead>\n",
       "  <tbody>\n",
       "    <tr>\n",
       "      <th>0</th>\n",
       "      <td>5.99</td>\n",
       "      <td>600</td>\n",
       "      <td>1</td>\n",
       "      <td>5.8</td>\n",
       "      <td>2</td>\n",
       "      <td>1</td>\n",
       "      <td>0.71</td>\n",
       "      <td>5.4</td>\n",
       "      <td>1</td>\n",
       "      <td>&lt;6</td>\n",
       "      <td>5.28</td>\n",
       "      <td>&lt;1</td>\n",
       "      <td>&gt;500</td>\n",
       "    </tr>\n",
       "    <tr>\n",
       "      <th>1</th>\n",
       "      <td>4.72</td>\n",
       "      <td>568</td>\n",
       "      <td>2</td>\n",
       "      <td>6.9</td>\n",
       "      <td>5</td>\n",
       "      <td>3</td>\n",
       "      <td>1.75</td>\n",
       "      <td>4.7</td>\n",
       "      <td>1</td>\n",
       "      <td>6-8</td>\n",
       "      <td>2.97</td>\n",
       "      <td>1-3</td>\n",
       "      <td>&gt;500</td>\n",
       "    </tr>\n",
       "    <tr>\n",
       "      <th>2</th>\n",
       "      <td>6.30</td>\n",
       "      <td>560</td>\n",
       "      <td>1</td>\n",
       "      <td>8.9</td>\n",
       "      <td>2</td>\n",
       "      <td>0</td>\n",
       "      <td>2.27</td>\n",
       "      <td>2.2</td>\n",
       "      <td>1</td>\n",
       "      <td>8-10</td>\n",
       "      <td>4.03</td>\n",
       "      <td>1-3</td>\n",
       "      <td>&gt;500</td>\n",
       "    </tr>\n",
       "    <tr>\n",
       "      <th>3</th>\n",
       "      <td>8.05</td>\n",
       "      <td>600</td>\n",
       "      <td>7</td>\n",
       "      <td>6.3</td>\n",
       "      <td>9</td>\n",
       "      <td>5</td>\n",
       "      <td>1.40</td>\n",
       "      <td>5.9</td>\n",
       "      <td>0</td>\n",
       "      <td>6-8</td>\n",
       "      <td>6.65</td>\n",
       "      <td>1-3</td>\n",
       "      <td>&gt;500</td>\n",
       "    </tr>\n",
       "    <tr>\n",
       "      <th>4</th>\n",
       "      <td>4.53</td>\n",
       "      <td>421</td>\n",
       "      <td>6</td>\n",
       "      <td>6.9</td>\n",
       "      <td>4</td>\n",
       "      <td>0</td>\n",
       "      <td>1.26</td>\n",
       "      <td>6.3</td>\n",
       "      <td>1</td>\n",
       "      <td>6-8</td>\n",
       "      <td>3.27</td>\n",
       "      <td>1-3</td>\n",
       "      <td>300-500</td>\n",
       "    </tr>\n",
       "  </tbody>\n",
       "</table>\n",
       "</div>"
      ],
      "text/plain": [
       "   hours_coding  coffee_intake_mg  distractions  sleep_hours  commits  \\\n",
       "0          5.99               600             1          5.8        2   \n",
       "1          4.72               568             2          6.9        5   \n",
       "2          6.30               560             1          8.9        2   \n",
       "3          8.05               600             7          6.3        9   \n",
       "4          4.53               421             6          6.9        4   \n",
       "\n",
       "   bugs_reported  ai_usage_hours  cognitive_load  task_success sleepLabel  \\\n",
       "0              1            0.71             5.4             1         <6   \n",
       "1              3            1.75             4.7             1        6-8   \n",
       "2              0            2.27             2.2             1       8-10   \n",
       "3              5            1.40             5.9             0        6-8   \n",
       "4              0            1.26             6.3             1        6-8   \n",
       "\n",
       "   no_ai_hours aiUsageLabel coffeeLabel  \n",
       "0         5.28           <1        >500  \n",
       "1         2.97          1-3        >500  \n",
       "2         4.03          1-3        >500  \n",
       "3         6.65          1-3        >500  \n",
       "4         3.27          1-3     300-500  "
      ]
     },
     "execution_count": 15,
     "metadata": {},
     "output_type": "execute_result"
    }
   ],
   "source": [
    "aidev['coffeeLabel'] = pd.cut(x=aidev['coffee_intake_mg'], bins=[0, 300, 500, 600],\n",
    "                     labels=['<300', '300-500', '>500'])\n",
    "\n",
    "print(aidev['coffeeLabel'].value_counts())\n",
    "aidev.head(5)"
   ]
  },
  {
   "cell_type": "code",
   "execution_count": 16,
   "id": "a5dba691",
   "metadata": {},
   "outputs": [
    {
     "data": {
      "text/html": [
       "<div>\n",
       "<style scoped>\n",
       "    .dataframe tbody tr th:only-of-type {\n",
       "        vertical-align: middle;\n",
       "    }\n",
       "\n",
       "    .dataframe tbody tr th {\n",
       "        vertical-align: top;\n",
       "    }\n",
       "\n",
       "    .dataframe thead th {\n",
       "        text-align: right;\n",
       "    }\n",
       "</style>\n",
       "<table border=\"1\" class=\"dataframe\">\n",
       "  <thead>\n",
       "    <tr style=\"text-align: right;\">\n",
       "      <th></th>\n",
       "      <th>commits</th>\n",
       "      <th>bugs_reported</th>\n",
       "      <th>cognitive_load</th>\n",
       "      <th>task_success</th>\n",
       "    </tr>\n",
       "    <tr>\n",
       "      <th>coffeeLabel</th>\n",
       "      <th></th>\n",
       "      <th></th>\n",
       "      <th></th>\n",
       "      <th></th>\n",
       "    </tr>\n",
       "  </thead>\n",
       "  <tbody>\n",
       "    <tr>\n",
       "      <th>&lt;300</th>\n",
       "      <td>2.075000</td>\n",
       "      <td>0.725000</td>\n",
       "      <td>4.542500</td>\n",
       "      <td>0.000000</td>\n",
       "    </tr>\n",
       "    <tr>\n",
       "      <th>300-500</th>\n",
       "      <td>3.976471</td>\n",
       "      <td>0.823529</td>\n",
       "      <td>4.251176</td>\n",
       "      <td>0.488235</td>\n",
       "    </tr>\n",
       "    <tr>\n",
       "      <th>&gt;500</th>\n",
       "      <td>5.848000</td>\n",
       "      <td>0.924000</td>\n",
       "      <td>4.652000</td>\n",
       "      <td>0.880000</td>\n",
       "    </tr>\n",
       "  </tbody>\n",
       "</table>\n",
       "</div>"
      ],
      "text/plain": [
       "              commits  bugs_reported  cognitive_load  task_success\n",
       "coffeeLabel                                                       \n",
       "<300         2.075000       0.725000        4.542500      0.000000\n",
       "300-500      3.976471       0.823529        4.251176      0.488235\n",
       ">500         5.848000       0.924000        4.652000      0.880000"
      ]
     },
     "execution_count": 16,
     "metadata": {},
     "output_type": "execute_result"
    }
   ],
   "source": [
    "coffee_comparsion = aidev.groupby('coffeeLabel')[['commits','bugs_reported','cognitive_load','task_success']].mean()\n",
    "coffee_comparsion"
   ]
  },
  {
   "cell_type": "code",
   "execution_count": 17,
   "id": "6e353de2",
   "metadata": {},
   "outputs": [
    {
     "name": "stdout",
     "output_type": "stream",
     "text": [
      "Average intake (300-500) increased Task success rate by 48.82% than low usage (<300)\n"
     ]
    }
   ],
   "source": [
    "Tsuccess_diff2 = coffee_comparsion.loc['300-500','task_success']\n",
    "print(f\"Average intake (300-500) increased Task success rate by {Tsuccess_diff2 * 100:.2f}% than low usage (<300)\")"
   ]
  },
  {
   "cell_type": "code",
   "execution_count": 18,
   "id": "62907946",
   "metadata": {},
   "outputs": [
    {
     "name": "stdout",
     "output_type": "stream",
     "text": [
      "Average intake (300-500) decreased cognitive load by 6.41% than low usage (<300)\n"
     ]
    }
   ],
   "source": [
    "cog_diff2 = (coffee_comparsion.loc['<300','cognitive_load'] - coffee_comparsion.loc['300-500','cognitive_load'])/coffee_comparsion.loc['<300','cognitive_load']\n",
    "print(f\"Average intake (300-500) decreased cognitive load by {cog_diff2 * 100:.2f}% than low usage (<300)\")"
   ]
  },
  {
   "cell_type": "code",
   "execution_count": 19,
   "id": "1889b7c1",
   "metadata": {},
   "outputs": [
    {
     "name": "stdout",
     "output_type": "stream",
     "text": [
      "Over-Caffeination (>500) increased cognitive load by 9.43% than normal usage (300-500)\n"
     ]
    }
   ],
   "source": [
    "cog_diff3 = (coffee_comparsion.loc['>500','cognitive_load'] - coffee_comparsion.loc['300-500','cognitive_load'])/coffee_comparsion.loc['300-500','cognitive_load']\n",
    "print(f\"Over-Caffeination (>500) increased cognitive load by {cog_diff3 * 100:.2f}% than normal usage (300-500)\")"
   ]
  },
  {
   "cell_type": "markdown",
   "id": "e6e9ee59",
   "metadata": {},
   "source": [
    "### **Distraction level effect**"
   ]
  },
  {
   "cell_type": "markdown",
   "id": "97f7e8dc",
   "metadata": {},
   "source": [
    "### How does task success rate vary by distraction level?"
   ]
  },
  {
   "cell_type": "code",
   "execution_count": 20,
   "id": "f40b494c",
   "metadata": {},
   "outputs": [
    {
     "name": "stdout",
     "output_type": "stream",
     "text": [
      "Task success rate by distractions:\n"
     ]
    },
    {
     "data": {
      "text/plain": [
       "distractions\n",
       "0    0.631579\n",
       "1    0.753086\n",
       "2    0.598291\n",
       "3    0.571429\n",
       "4    0.592593\n",
       "5    0.511111\n",
       "6    0.571429\n",
       "7    0.562500\n",
       "8    0.000000\n",
       "Name: task_success, dtype: float64"
      ]
     },
     "execution_count": 20,
     "metadata": {},
     "output_type": "execute_result"
    }
   ],
   "source": [
    "print('Task success rate by distractions:')\n",
    "\n",
    "aidev.groupby('distractions')['task_success'].mean()"
   ]
  },
  {
   "cell_type": "code",
   "execution_count": 21,
   "id": "8ab14acc",
   "metadata": {},
   "outputs": [
    {
     "data": {
      "text/plain": [
       "[<matplotlib.lines.Line2D at 0x23b228c4f50>]"
      ]
     },
     "execution_count": 21,
     "metadata": {},
     "output_type": "execute_result"
    },
    {
     "data": {
      "image/png": "[encoded data removed]",
      "text/plain": [
       "<Figure size 640x480 with 1 Axes>"
      ]
     },
     "metadata": {},
     "output_type": "display_data"
    }
   ],
   "source": [
    "plt.plot(aidev.groupby('distractions')['cognitive_load'].mean(),c=\"darkgreen\")"
   ]
  },
  {
   "cell_type": "code",
   "execution_count": 22,
   "id": "151a1de4",
   "metadata": {},
   "outputs": [],
   "source": [
    "cog_distract_gp1 = aidev[aidev['distractions']>=3]['cognitive_load']\n",
    "cog_distract_gp2 = aidev[aidev['distractions']<3]['cognitive_load']"
   ]
  },
  {
   "cell_type": "code",
   "execution_count": 23,
   "id": "a34e8c0a",
   "metadata": {},
   "outputs": [
    {
     "name": "stdout",
     "output_type": "stream",
     "text": [
      "3+ distractions increased cognitive load by 39.60% \n"
     ]
    }
   ],
   "source": [
    "cog_diff4 = (cog_distract_gp1.mean() - cog_distract_gp2.mean())/cog_distract_gp2.mean()\n",
    "print(f\"3+ distractions increased cognitive load by {cog_diff4 * 100:.2f}% \")"
   ]
  },
  {
   "cell_type": "code",
   "execution_count": 24,
   "id": "38e0590d",
   "metadata": {},
   "outputs": [],
   "source": [
    "com_distract_gp1 = aidev[aidev['distractions']>=2]['commits']\n",
    "com_distract_gp2 = aidev[aidev['distractions']<2]['commits']"
   ]
  },
  {
   "cell_type": "code",
   "execution_count": 25,
   "id": "af8a7b84",
   "metadata": {},
   "outputs": [
    {
     "name": "stdout",
     "output_type": "stream",
     "text": [
      "<2 distractions increased commits by 6.65% \n"
     ]
    }
   ],
   "source": [
    "commits_diff2 = (com_distract_gp2.mean() - com_distract_gp1.mean())/com_distract_gp1.mean()\n",
    "print(f\"<2 distractions increased commits by {commits_diff2 * 100:.2f}% \")"
   ]
  },
  {
   "cell_type": "markdown",
   "id": "802097c6",
   "metadata": {},
   "source": [
    "## **Cleaning and preprocessing**"
   ]
  },
  {
   "cell_type": "code",
   "execution_count": 26,
   "id": "5cb502d6",
   "metadata": {},
   "outputs": [
    {
     "data": {
      "text/plain": [
       "0"
      ]
     },
     "execution_count": 26,
     "metadata": {},
     "output_type": "execute_result"
    }
   ],
   "source": [
    "aidev.duplicated().sum()"
   ]
  },
  {
   "cell_type": "code",
   "execution_count": 27,
   "id": "154615cb",
   "metadata": {},
   "outputs": [
    {
     "data": {
      "text/html": [
       "<div>\n",
       "<style scoped>\n",
       "    .dataframe tbody tr th:only-of-type {\n",
       "        vertical-align: middle;\n",
       "    }\n",
       "\n",
       "    .dataframe tbody tr th {\n",
       "        vertical-align: top;\n",
       "    }\n",
       "\n",
       "    .dataframe thead th {\n",
       "        text-align: right;\n",
       "    }\n",
       "</style>\n",
       "<table border=\"1\" class=\"dataframe\">\n",
       "  <thead>\n",
       "    <tr style=\"text-align: right;\">\n",
       "      <th></th>\n",
       "      <th>hours_coding</th>\n",
       "      <th>coffee_intake_mg</th>\n",
       "      <th>distractions</th>\n",
       "      <th>sleep_hours</th>\n",
       "      <th>commits</th>\n",
       "      <th>bugs_reported</th>\n",
       "      <th>ai_usage_hours</th>\n",
       "      <th>cognitive_load</th>\n",
       "      <th>task_success</th>\n",
       "      <th>sleepLabel</th>\n",
       "      <th>no_ai_hours</th>\n",
       "      <th>aiUsageLabel</th>\n",
       "      <th>coffeeLabel</th>\n",
       "    </tr>\n",
       "  </thead>\n",
       "  <tbody>\n",
       "    <tr>\n",
       "      <th>0</th>\n",
       "      <td>5.99</td>\n",
       "      <td>600</td>\n",
       "      <td>1</td>\n",
       "      <td>5.8</td>\n",
       "      <td>2</td>\n",
       "      <td>1</td>\n",
       "      <td>0.71</td>\n",
       "      <td>5.4</td>\n",
       "      <td>1</td>\n",
       "      <td>&lt;6</td>\n",
       "      <td>5.28</td>\n",
       "      <td>&lt;1</td>\n",
       "      <td>&gt;500</td>\n",
       "    </tr>\n",
       "    <tr>\n",
       "      <th>1</th>\n",
       "      <td>4.72</td>\n",
       "      <td>568</td>\n",
       "      <td>2</td>\n",
       "      <td>6.9</td>\n",
       "      <td>5</td>\n",
       "      <td>3</td>\n",
       "      <td>1.75</td>\n",
       "      <td>4.7</td>\n",
       "      <td>1</td>\n",
       "      <td>6-8</td>\n",
       "      <td>2.97</td>\n",
       "      <td>1-3</td>\n",
       "      <td>&gt;500</td>\n",
       "    </tr>\n",
       "    <tr>\n",
       "      <th>2</th>\n",
       "      <td>6.30</td>\n",
       "      <td>560</td>\n",
       "      <td>1</td>\n",
       "      <td>8.9</td>\n",
       "      <td>2</td>\n",
       "      <td>0</td>\n",
       "      <td>2.27</td>\n",
       "      <td>2.2</td>\n",
       "      <td>1</td>\n",
       "      <td>8-10</td>\n",
       "      <td>4.03</td>\n",
       "      <td>1-3</td>\n",
       "      <td>&gt;500</td>\n",
       "    </tr>\n",
       "    <tr>\n",
       "      <th>3</th>\n",
       "      <td>8.05</td>\n",
       "      <td>600</td>\n",
       "      <td>7</td>\n",
       "      <td>6.3</td>\n",
       "      <td>9</td>\n",
       "      <td>5</td>\n",
       "      <td>1.40</td>\n",
       "      <td>5.9</td>\n",
       "      <td>0</td>\n",
       "      <td>6-8</td>\n",
       "      <td>6.65</td>\n",
       "      <td>1-3</td>\n",
       "      <td>&gt;500</td>\n",
       "    </tr>\n",
       "    <tr>\n",
       "      <th>4</th>\n",
       "      <td>4.53</td>\n",
       "      <td>421</td>\n",
       "      <td>6</td>\n",
       "      <td>6.9</td>\n",
       "      <td>4</td>\n",
       "      <td>0</td>\n",
       "      <td>1.26</td>\n",
       "      <td>6.3</td>\n",
       "      <td>1</td>\n",
       "      <td>6-8</td>\n",
       "      <td>3.27</td>\n",
       "      <td>1-3</td>\n",
       "      <td>300-500</td>\n",
       "    </tr>\n",
       "  </tbody>\n",
       "</table>\n",
       "</div>"
      ],
      "text/plain": [
       "   hours_coding  coffee_intake_mg  distractions  sleep_hours  commits  \\\n",
       "0          5.99               600             1          5.8        2   \n",
       "1          4.72               568             2          6.9        5   \n",
       "2          6.30               560             1          8.9        2   \n",
       "3          8.05               600             7          6.3        9   \n",
       "4          4.53               421             6          6.9        4   \n",
       "\n",
       "   bugs_reported  ai_usage_hours  cognitive_load  task_success sleepLabel  \\\n",
       "0              1            0.71             5.4             1         <6   \n",
       "1              3            1.75             4.7             1        6-8   \n",
       "2              0            2.27             2.2             1       8-10   \n",
       "3              5            1.40             5.9             0        6-8   \n",
       "4              0            1.26             6.3             1        6-8   \n",
       "\n",
       "   no_ai_hours aiUsageLabel coffeeLabel  \n",
       "0         5.28           <1        >500  \n",
       "1         2.97          1-3        >500  \n",
       "2         4.03          1-3        >500  \n",
       "3         6.65          1-3        >500  \n",
       "4         3.27          1-3     300-500  "
      ]
     },
     "execution_count": 27,
     "metadata": {},
     "output_type": "execute_result"
    }
   ],
   "source": [
    "aidev.head()"
   ]
  },
  {
   "cell_type": "code",
   "execution_count": 28,
   "id": "9d070ae6",
   "metadata": {},
   "outputs": [],
   "source": [
    "aidev = aidev.drop([\"sleepLabel\",\t\"no_ai_hours\",\t\"aiUsageLabel\",\t\"coffeeLabel\"], axis=1)"
   ]
  },
  {
   "cell_type": "markdown",
   "id": "6c47ec01",
   "metadata": {},
   "source": [
    "### **Visualizing features distribution**"
   ]
  },
  {
   "cell_type": "code",
   "execution_count": 29,
   "id": "231a11fb",
   "metadata": {},
   "outputs": [
    {
     "data": {
      "image/png": "[encoded data removed]",
      "text/plain": [
       "<Figure size 1800x1200 with 8 Axes>"
      ]
     },
     "metadata": {},
     "output_type": "display_data"
    }
   ],
   "source": [
    "features = ['hours_coding', 'coffee_intake_mg', 'distractions', 'sleep_hours',\n",
    "            'commits', 'bugs_reported', 'ai_usage_hours', 'cognitive_load']\n",
    "\n",
    "# Set the layout\n",
    "plt.figure(figsize=(18, 12))\n",
    "for i, feature in enumerate(features):\n",
    "    plt.subplot(3, 3, i+1)\n",
    "    sns.histplot(aidev[feature], kde=True, bins=30)\n",
    "    plt.title(f\"Distribution of {feature}\")\n",
    "    plt.tight_layout()\n",
    "plt.show()"
   ]
  },
  {
   "cell_type": "markdown",
   "id": "171b2516",
   "metadata": {},
   "source": [
    "### **Data splitting**"
   ]
  },
  {
   "cell_type": "code",
   "execution_count": 30,
   "id": "e281fb82",
   "metadata": {},
   "outputs": [],
   "source": [
    "X = aidev.iloc[:, :-1]   # all columns except last\n",
    "y = aidev.iloc[:, -1]    # last column as target"
   ]
  },
  {
   "cell_type": "code",
   "execution_count": 31,
   "id": "6b823d5e",
   "metadata": {},
   "outputs": [],
   "source": [
    "# Splitting into 70% training , 15% validation and 15% test\n",
    "X_temp, X_test, y_temp, y_test = train_test_split(\n",
    "    X, y, test_size=0.15, random_state=42, stratify=y\n",
    ")\n",
    "\n",
    "X_train, X_val, y_train, y_val = train_test_split(\n",
    "    X_temp, y_temp, test_size=0.176, random_state=42, stratify=y_temp\n",
    ")"
   ]
  },
  {
   "cell_type": "code",
   "execution_count": 32,
   "id": "8d257006",
   "metadata": {},
   "outputs": [
    {
     "data": {
      "text/html": [
       "<div>\n",
       "<style scoped>\n",
       "    .dataframe tbody tr th:only-of-type {\n",
       "        vertical-align: middle;\n",
       "    }\n",
       "\n",
       "    .dataframe tbody tr th {\n",
       "        vertical-align: top;\n",
       "    }\n",
       "\n",
       "    .dataframe thead th {\n",
       "        text-align: right;\n",
       "    }\n",
       "</style>\n",
       "<table border=\"1\" class=\"dataframe\">\n",
       "  <thead>\n",
       "    <tr style=\"text-align: right;\">\n",
       "      <th></th>\n",
       "      <th>hours_coding</th>\n",
       "      <th>coffee_intake_mg</th>\n",
       "      <th>distractions</th>\n",
       "      <th>sleep_hours</th>\n",
       "      <th>commits</th>\n",
       "      <th>bugs_reported</th>\n",
       "      <th>ai_usage_hours</th>\n",
       "      <th>cognitive_load</th>\n",
       "    </tr>\n",
       "  </thead>\n",
       "  <tbody>\n",
       "    <tr>\n",
       "      <th>107</th>\n",
       "      <td>5.35</td>\n",
       "      <td>473</td>\n",
       "      <td>5</td>\n",
       "      <td>9.1</td>\n",
       "      <td>1</td>\n",
       "      <td>0</td>\n",
       "      <td>1.14</td>\n",
       "      <td>1.5</td>\n",
       "    </tr>\n",
       "    <tr>\n",
       "      <th>220</th>\n",
       "      <td>9.63</td>\n",
       "      <td>600</td>\n",
       "      <td>3</td>\n",
       "      <td>8.4</td>\n",
       "      <td>13</td>\n",
       "      <td>0</td>\n",
       "      <td>3.54</td>\n",
       "      <td>5.6</td>\n",
       "    </tr>\n",
       "    <tr>\n",
       "      <th>361</th>\n",
       "      <td>8.07</td>\n",
       "      <td>600</td>\n",
       "      <td>3</td>\n",
       "      <td>4.6</td>\n",
       "      <td>7</td>\n",
       "      <td>1</td>\n",
       "      <td>4.92</td>\n",
       "      <td>7.2</td>\n",
       "    </tr>\n",
       "    <tr>\n",
       "      <th>438</th>\n",
       "      <td>1.59</td>\n",
       "      <td>172</td>\n",
       "      <td>4</td>\n",
       "      <td>7.3</td>\n",
       "      <td>1</td>\n",
       "      <td>0</td>\n",
       "      <td>0.41</td>\n",
       "      <td>4.3</td>\n",
       "    </tr>\n",
       "    <tr>\n",
       "      <th>93</th>\n",
       "      <td>4.34</td>\n",
       "      <td>451</td>\n",
       "      <td>4</td>\n",
       "      <td>6.5</td>\n",
       "      <td>5</td>\n",
       "      <td>3</td>\n",
       "      <td>0.68</td>\n",
       "      <td>5.8</td>\n",
       "    </tr>\n",
       "    <tr>\n",
       "      <th>...</th>\n",
       "      <td>...</td>\n",
       "      <td>...</td>\n",
       "      <td>...</td>\n",
       "      <td>...</td>\n",
       "      <td>...</td>\n",
       "      <td>...</td>\n",
       "      <td>...</td>\n",
       "      <td>...</td>\n",
       "    </tr>\n",
       "    <tr>\n",
       "      <th>171</th>\n",
       "      <td>3.37</td>\n",
       "      <td>233</td>\n",
       "      <td>3</td>\n",
       "      <td>7.9</td>\n",
       "      <td>6</td>\n",
       "      <td>1</td>\n",
       "      <td>1.06</td>\n",
       "      <td>5.0</td>\n",
       "    </tr>\n",
       "    <tr>\n",
       "      <th>432</th>\n",
       "      <td>4.46</td>\n",
       "      <td>374</td>\n",
       "      <td>3</td>\n",
       "      <td>8.8</td>\n",
       "      <td>5</td>\n",
       "      <td>0</td>\n",
       "      <td>2.01</td>\n",
       "      <td>4.6</td>\n",
       "    </tr>\n",
       "    <tr>\n",
       "      <th>461</th>\n",
       "      <td>5.07</td>\n",
       "      <td>574</td>\n",
       "      <td>7</td>\n",
       "      <td>8.8</td>\n",
       "      <td>4</td>\n",
       "      <td>0</td>\n",
       "      <td>1.15</td>\n",
       "      <td>5.8</td>\n",
       "    </tr>\n",
       "    <tr>\n",
       "      <th>394</th>\n",
       "      <td>7.36</td>\n",
       "      <td>600</td>\n",
       "      <td>0</td>\n",
       "      <td>8.1</td>\n",
       "      <td>6</td>\n",
       "      <td>0</td>\n",
       "      <td>4.15</td>\n",
       "      <td>1.8</td>\n",
       "    </tr>\n",
       "    <tr>\n",
       "      <th>370</th>\n",
       "      <td>5.05</td>\n",
       "      <td>496</td>\n",
       "      <td>4</td>\n",
       "      <td>8.7</td>\n",
       "      <td>5</td>\n",
       "      <td>0</td>\n",
       "      <td>0.47</td>\n",
       "      <td>1.6</td>\n",
       "    </tr>\n",
       "  </tbody>\n",
       "</table>\n",
       "<p>350 rows × 8 columns</p>\n",
       "</div>"
      ],
      "text/plain": [
       "     hours_coding  coffee_intake_mg  distractions  sleep_hours  commits  \\\n",
       "107          5.35               473             5          9.1        1   \n",
       "220          9.63               600             3          8.4       13   \n",
       "361          8.07               600             3          4.6        7   \n",
       "438          1.59               172             4          7.3        1   \n",
       "93           4.34               451             4          6.5        5   \n",
       "..            ...               ...           ...          ...      ...   \n",
       "171          3.37               233             3          7.9        6   \n",
       "432          4.46               374             3          8.8        5   \n",
       "461          5.07               574             7          8.8        4   \n",
       "394          7.36               600             0          8.1        6   \n",
       "370          5.05               496             4          8.7        5   \n",
       "\n",
       "     bugs_reported  ai_usage_hours  cognitive_load  \n",
       "107              0            1.14             1.5  \n",
       "220              0            3.54             5.6  \n",
       "361              1            4.92             7.2  \n",
       "438              0            0.41             4.3  \n",
       "93               3            0.68             5.8  \n",
       "..             ...             ...             ...  \n",
       "171              1            1.06             5.0  \n",
       "432              0            2.01             4.6  \n",
       "461              0            1.15             5.8  \n",
       "394              0            4.15             1.8  \n",
       "370              0            0.47             1.6  \n",
       "\n",
       "[350 rows x 8 columns]"
      ]
     },
     "execution_count": 32,
     "metadata": {},
     "output_type": "execute_result"
    }
   ],
   "source": [
    "X_train"
   ]
  },
  {
   "cell_type": "markdown",
   "id": "f01f756d",
   "metadata": {},
   "source": [
    "### **Dealing with outliers**"
   ]
  },
  {
   "cell_type": "code",
   "execution_count": 33,
   "id": "21cf122c",
   "metadata": {},
   "outputs": [
    {
     "name": "stdout",
     "output_type": "stream",
     "text": [
      "Number of values removed: 18\n"
     ]
    }
   ],
   "source": [
    "def remove_outliers_iqr(X, y, iqr_multiplier=1.5):\n",
    "    Q1 = np.percentile(X, 25, axis=0)\n",
    "    Q3 = np.percentile(X, 75, axis=0)\n",
    "    IQR = Q3 - Q1\n",
    "    lower_bound = Q1 - iqr_multiplier * IQR\n",
    "    upper_bound = Q3 + iqr_multiplier * IQR\n",
    "    mask = np.all((X >= lower_bound) & (X <= upper_bound), axis=1)\n",
    "    return X[mask], y[mask]\n",
    "\n",
    "X_train_filtered, y_train_filtered = remove_outliers_iqr(X_train, y_train)\n",
    "\n",
    "num_removed = len(X_train) - len(X_train_filtered)\n",
    "print(f\"Number of values removed: {num_removed}\")\n",
    "\n",
    "X_train, y_train = X_train_filtered, y_train_filtered"
   ]
  },
  {
   "cell_type": "markdown",
   "id": "a8c01a53",
   "metadata": {},
   "source": [
    "### **Feature engineering**"
   ]
  },
  {
   "cell_type": "code",
   "execution_count": 34,
   "id": "8bae4e25",
   "metadata": {},
   "outputs": [],
   "source": [
    "X_train['coffee_per_hour'] = X_train['coffee_intake_mg'] / (X_train['hours_coding'] + 1)\n",
    "X_val['coffee_per_hour'] = X_val['coffee_intake_mg'] / (X_val['hours_coding'] + 1)\n",
    "X_test['coffee_per_hour'] = X_test['coffee_intake_mg'] / (X_test['hours_coding'] + 1)"
   ]
  },
  {
   "cell_type": "code",
   "execution_count": 35,
   "id": "dab44667",
   "metadata": {},
   "outputs": [],
   "source": [
    "X_train['squared_ai_usage'] = (X_train['ai_usage_hours'])**2\n",
    "X_val['squared_ai_usage'] = (X_val['ai_usage_hours'])**2\n",
    "X_test['squared_ai_usage'] = (X_test['ai_usage_hours'])**2"
   ]
  },
  {
   "cell_type": "code",
   "execution_count": 36,
   "id": "b913cd02",
   "metadata": {},
   "outputs": [],
   "source": [
    "X_train['log_coffee_intake'] = np.log1p(X_train['coffee_intake_mg'])\n",
    "X_test['log_coffee_intake'] = np.log1p(X_test['coffee_intake_mg'])\n",
    "X_val['log_coffee_intake'] = np.log1p(X_val['coffee_intake_mg'])"
   ]
  },
  {
   "cell_type": "markdown",
   "id": "f30ab503",
   "metadata": {},
   "source": [
    "### **Handling Imbalanced Data**"
   ]
  },
  {
   "cell_type": "code",
   "execution_count": 37,
   "id": "828eeea7",
   "metadata": {},
   "outputs": [
    {
     "data": {
      "text/plain": [
       "1    202\n",
       "0    130\n",
       "Name: task_success, dtype: int64"
      ]
     },
     "execution_count": 37,
     "metadata": {},
     "output_type": "execute_result"
    }
   ],
   "source": [
    "y_train.value_counts()"
   ]
  },
  {
   "cell_type": "markdown",
   "id": "93c8c886",
   "metadata": {},
   "source": [
    "*we can notice the imbalanced nature of dataset*"
   ]
  },
  {
   "cell_type": "code",
   "execution_count": 38,
   "id": "c59b2f05",
   "metadata": {},
   "outputs": [],
   "source": [
    "smote = SMOTE(random_state=42)\n",
    "X_train, y_train = smote.fit_resample(X_train, y_train)"
   ]
  },
  {
   "cell_type": "code",
   "execution_count": 39,
   "id": "7eb2994f",
   "metadata": {},
   "outputs": [
    {
     "data": {
      "text/plain": [
       "1    202\n",
       "0    202\n",
       "Name: task_success, dtype: int64"
      ]
     },
     "execution_count": 39,
     "metadata": {},
     "output_type": "execute_result"
    }
   ],
   "source": [
    "y_train.value_counts()"
   ]
  },
  {
   "cell_type": "markdown",
   "id": "3f441982",
   "metadata": {},
   "source": [
    "### **Feature Scaling**"
   ]
  },
  {
   "cell_type": "code",
   "execution_count": 40,
   "id": "e7481b28",
   "metadata": {},
   "outputs": [],
   "source": [
    "scaler = StandardScaler()\n",
    "scaler.fit(X_train)  \n",
    "X_train = scaler.transform(X_train)  \n",
    "X_val = scaler.transform(X_val)      \n",
    "X_test = scaler.transform(X_test)    "
   ]
  },
  {
   "cell_type": "markdown",
   "id": "721e0234",
   "metadata": {},
   "source": [
    "## **Machine learning model**"
   ]
  },
  {
   "cell_type": "code",
   "execution_count": 41,
   "id": "204176a2",
   "metadata": {},
   "outputs": [],
   "source": [
    "# Import libraries\n",
    "import numpy as np\n",
    "import pandas as pd\n",
    "from sklearn.datasets import make_classification\n",
    "from sklearn.model_selection import train_test_split, cross_val_score\n",
    "from sklearn.metrics import accuracy_score, classification_report\n",
    "from sklearn.preprocessing import StandardScaler\n",
    "\n",
    "# Models\n",
    "from sklearn.linear_model import LogisticRegression\n",
    "from sklearn.tree import DecisionTreeClassifier\n",
    "from sklearn.neighbors import KNeighborsClassifier\n",
    "from sklearn.naive_bayes import GaussianNB\n",
    "from sklearn.svm import SVC\n",
    "from sklearn.model_selection import cross_val_score\n",
    "from sklearn.metrics import confusion_matrix, ConfusionMatrixDisplay\n",
    "from sklearn.neighbors import KNeighborsClassifier\n",
    "from sklearn.metrics import accuracy_score\n",
    "from sklearn.metrics import roc_auc_score\n",
    "from sklearn.model_selection import train_test_split\n",
    "from sklearn.base import BaseEstimator, TransformerMixin\n",
    "from imblearn.pipeline import Pipeline\n",
    "from imblearn.over_sampling import SMOTE\n",
    "from sklearn.preprocessing import StandardScaler\n",
    "from sklearn.neighbors import KNeighborsClassifier\n",
    "from sklearn.metrics import accuracy_score, classification_report, roc_auc_score\n",
    "import joblib\n",
    "\n",
    "# Suppress warnings\n",
    "import warnings\n",
    "warnings.filterwarnings('ignore')"
   ]
  },
  {
   "cell_type": "markdown",
   "id": "95482744",
   "metadata": {},
   "source": [
    "#### Finding out the best model"
   ]
  },
  {
   "cell_type": "code",
   "execution_count": 42,
   "id": "9ca65c26",
   "metadata": {},
   "outputs": [
    {
     "name": "stdout",
     "output_type": "stream",
     "text": [
      "Logistic Regression Cross-Validated Accuracy (5-fold): 0.86\n",
      "KNN (k=5) Cross-Validated Accuracy (5-fold): 0.90\n",
      "Naive Bayes Cross-Validated Accuracy (5-fold): 0.86\n",
      "SVM (linear) Cross-Validated Accuracy (5-fold): 0.86\n"
     ]
    }
   ],
   "source": [
    "models = {\n",
    "    'Logistic Regression': LogisticRegression(),\n",
    "    'KNN (k=5)': KNeighborsClassifier(n_neighbors=7),\n",
    "    'Naive Bayes': GaussianNB(),\n",
    "    'SVM (linear)': SVC(kernel='linear')\n",
    "}\n",
    "\n",
    "results = {}\n",
    "\n",
    "cv_results = {}\n",
    "\n",
    "for name, model in models.items():\n",
    "    scores = cross_val_score(model, X_train, y_train, cv=5, scoring='f1')\n",
    "    mean_score = scores.mean()\n",
    "    cv_results[name] = mean_score\n",
    "    print(f\"{name} Cross-Validated Accuracy (5-fold): {mean_score:.2f}\")"
   ]
  },
  {
   "cell_type": "markdown",
   "id": "6c8521fe",
   "metadata": {},
   "source": [
    "Obviously, KNN performed the best which will take us to the nexts step which Hyperparameter tuning"
   ]
  },
  {
   "cell_type": "markdown",
   "id": "31da24e9",
   "metadata": {},
   "source": [
    "#### Hyperparameter tuning"
   ]
  },
  {
   "cell_type": "code",
   "execution_count": 43,
   "id": "068d89fa",
   "metadata": {},
   "outputs": [
    {
     "name": "stdout",
     "output_type": "stream",
     "text": [
      "\n",
      "✅ Best Params on Validation Set: {'n_neighbors': 7, 'weights': 'distance', 'metric': 'manhattan'}, F1_score: 0.93\n"
     ]
    }
   ],
   "source": [
    "k_values = [1, 3, 5, 7, 9, 11]\n",
    "weight_options = ['uniform', 'distance']\n",
    "metrics = ['euclidean', 'manhattan']\n",
    "\n",
    "best_score = 0\n",
    "best_params = {}\n",
    "\n",
    "for k in k_values:\n",
    "    for w in weight_options:\n",
    "        for m in metrics:\n",
    "            model = KNeighborsClassifier(n_neighbors=k, weights=w,metric=m)\n",
    "            model.fit(X_train, y_train)\n",
    "            val_preds = model.predict(X_val)\n",
    "            f1 = f1_score(y_val, val_preds)\n",
    "\n",
    "            if f1 > best_score:\n",
    "                best_score = f1\n",
    "                best_params = {'n_neighbors': k, 'weights': w, 'metric':m}\n",
    "\n",
    "print(f\"\\n✅ Best Params on Validation Set: {best_params}, F1_score: {best_score:.2f}\")\n"
   ]
  },
  {
   "cell_type": "markdown",
   "id": "a9efb308",
   "metadata": {},
   "source": [
    "#### Finally, Evaluating on the test set"
   ]
  },
  {
   "cell_type": "code",
   "execution_count": 44,
   "id": "af4f75cf",
   "metadata": {},
   "outputs": [
    {
     "name": "stdout",
     "output_type": "stream",
     "text": [
      "\n",
      "Test Accuracy with Tuned KNN: 0.91\n",
      "\n",
      "Classification Report:\n",
      "              precision    recall  f1-score   support\n",
      "\n",
      "           0       0.92      0.80      0.86        30\n",
      "           1       0.88      0.96      0.91        45\n",
      "\n",
      "    accuracy                           0.89        75\n",
      "   macro avg       0.90      0.88      0.89        75\n",
      "weighted avg       0.90      0.89      0.89        75\n",
      "\n"
     ]
    }
   ],
   "source": [
    "best_knn = KNeighborsClassifier(n_neighbors=7, weights='distance',metric='manhattan')\n",
    "\n",
    "# Train on full training data (train + val)\n",
    "X_train_full = np.vstack((X_train, X_val))\n",
    "y_train_full = np.hstack((y_train, y_val))\n",
    "best_knn.fit(X_train_full, y_train_full)\n",
    "\n",
    "# Test set\n",
    "test_preds = best_knn.predict(X_test)\n",
    "test_acc = f1_score(y_test, test_preds)\n",
    "print(f\"\\nTest Accuracy with Tuned KNN: {test_acc:.2f}\")\n",
    "print(\"\\nClassification Report:\")\n",
    "print(classification_report(y_test, test_preds))"
   ]
  },
  {
   "cell_type": "markdown",
   "id": "ca232c91",
   "metadata": {},
   "source": [
    "Scored 91% f1-score which represnts a good perfomance"
   ]
  },
  {
   "cell_type": "code",
   "execution_count": 45,
   "id": "fe6e9f13",
   "metadata": {},
   "outputs": [
    {
     "data": {
      "text/plain": [
       "<sklearn.metrics._plot.confusion_matrix.ConfusionMatrixDisplay at 0x23b2841dd00>"
      ]
     },
     "execution_count": 45,
     "metadata": {},
     "output_type": "execute_result"
    },
    {
     "data": {
      "image/png": "[encoded data removed]",
      "text/plain": [
       "<Figure size 640x480 with 2 Axes>"
      ]
     },
     "metadata": {},
     "output_type": "display_data"
    }
   ],
   "source": [
    "cm = confusion_matrix(y_test, test_preds)\n",
    "disp = ConfusionMatrixDisplay(confusion_matrix=cm)\n",
    "disp.plot(cmap=\"Greens\")"
   ]
  },
  {
   "cell_type": "code",
   "execution_count": 46,
   "id": "fb82d939",
   "metadata": {},
   "outputs": [
    {
     "name": "stdout",
     "output_type": "stream",
     "text": [
      "AUC: 0.97\n"
     ]
    }
   ],
   "source": [
    "probs = best_knn.predict_proba(X_test)[:, 1]\n",
    "roc_auc = roc_auc_score(y_test, probs)\n",
    "print(f\"AUC: {roc_auc:.2f}\")"
   ]
  },
  {
   "cell_type": "markdown",
   "id": "623b043f",
   "metadata": {},
   "source": [
    "0.97 ROC-AUC means our model:\n",
    "- Correctly ranks positive samples above negatives 97% of the time.\n",
    "- Has strong class separation power, even if thresholds vary."
   ]
  },
  {
   "cell_type": "markdown",
   "id": "04f8c394",
   "metadata": {},
   "source": [
    "## **Setting up the pipeline**"
   ]
  },
  {
   "cell_type": "code",
   "execution_count": 47,
   "id": "46667ebf",
   "metadata": {},
   "outputs": [
    {
     "name": "stdout",
     "output_type": "stream",
     "text": [
      "Test Accuracy : 0.92\n",
      "\n",
      "Classification Report:\n",
      "               precision    recall  f1-score   support\n",
      "\n",
      "           0       0.96      0.83      0.89        30\n",
      "           1       0.90      0.98      0.94        45\n",
      "\n",
      "    accuracy                           0.92        75\n",
      "   macro avg       0.93      0.91      0.91        75\n",
      "weighted avg       0.92      0.92      0.92        75\n",
      "\n",
      "Test AUC      : 0.9837037037037036\n",
      "\n",
      "✅ Pipeline trained and saved as 'model_pipeline.pkl'\n"
     ]
    }
   ],
   "source": [
    "# 1. Split into train+val and test (85% / 15%)\n",
    "X_temp, X_test, y_temp, y_test = train_test_split(\n",
    "    X, y, test_size=0.15, stratify=y, random_state=42\n",
    ")\n",
    "\n",
    "# 2. Split train+val into train (70%) and val (15%)\n",
    "X_train, X_val, y_train, y_val = train_test_split(\n",
    "    X_temp, y_temp, test_size=0.1765, stratify=y_temp, random_state=42\n",
    ")\n",
    "\n",
    "# 3. Combine train + val for full training set\n",
    "X_train_full = pd.concat([X_train, X_val], ignore_index=True)\n",
    "y_train_full = pd.concat([y_train, y_val], ignore_index=True)\n",
    "\n",
    "# 4. Define your IQR outlier removal function\n",
    "def remove_outliers_iqr(X_array, y_array, iqr_multiplier=1.5):\n",
    "    Q1 = np.percentile(X_array, 25, axis=0)\n",
    "    Q3 = np.percentile(X_array, 75, axis=0)\n",
    "    IQR = Q3 - Q1\n",
    "    lower = Q1 - iqr_multiplier * IQR\n",
    "    upper = Q3 + iqr_multiplier * IQR\n",
    "    mask = np.all((X_array >= lower) & (X_array <= upper), axis=1)\n",
    "    return X_array[mask], y_array[mask]\n",
    "\n",
    "# 5. Remove outliers from the full training set\n",
    "X_np = X_train_full.to_numpy()\n",
    "y_np = y_train_full.to_numpy()\n",
    "X_filt, y_filt = remove_outliers_iqr(X_np, y_np, iqr_multiplier=1.5)\n",
    "\n",
    "# 6. Convert back to DataFrame (so FeatureEngineering can use column names)\n",
    "X_filt = pd.DataFrame(X_filt, columns=X.columns)\n",
    "y_filt = pd.Series(y_filt)\n",
    "\n",
    "# 7. Define your custom feature engineering transformer\n",
    "class FeatureEngineering(BaseEstimator, TransformerMixin):\n",
    "    def fit(self, X, y=None):\n",
    "        return self\n",
    "    def transform(self, X):\n",
    "        X = X.copy()\n",
    "        X['coffee_per_hour'] = X['coffee_intake_mg'] / (X['hours_coding'] + 1)\n",
    "        X['squared_ai_usage'] = X['ai_usage_hours'] ** 2\n",
    "        X['log_coffee_intake'] = np.log1p(X['coffee_intake_mg'])\n",
    "        return X\n",
    "\n",
    "# 8. Build the pipeline (no outlier removal step here)\n",
    "pipeline = Pipeline([\n",
    "    ('features', FeatureEngineering()),\n",
    "    ('smote',    SMOTE(random_state=42)),\n",
    "    ('scaler',   StandardScaler()),\n",
    "    ('model',    best_knn)\n",
    "])\n",
    "\n",
    "# 9. Fit pipeline on the filtered training data\n",
    "pipeline.fit(X_filt, y_filt)\n",
    "\n",
    "# 10. Evaluate on the untouched test set\n",
    "y_pred = pipeline.predict(X_test)\n",
    "y_prob = pipeline.predict_proba(X_test)[:, 1]\n",
    "\n",
    "print(\"Test Accuracy :\", accuracy_score(y_test, y_pred))\n",
    "print(\"\\nClassification Report:\\n\", classification_report(y_test, y_pred))\n",
    "print(\"Test AUC      :\", roc_auc_score(y_test, y_prob))\n",
    "\n",
    "# 11. Save the trained pipeline for deployment\n",
    "joblib.dump(pipeline, \"model_pipeline.pkl\")\n",
    "print(\"\\n✅ Pipeline trained and saved as 'model_pipeline.pkl'\")"
   ]
  }
 ],
 "metadata": {
  "kernelspec": {
   "display_name": "Python 3",
   "language": "python",
   "name": "python3"
  },
  "language_info": {
   "codemirror_mode": {
    "name": "ipython",
    "version": 3
   },
   "file_extension": ".py",
   "mimetype": "text/x-python",
   "name": "python",
   "nbconvert_exporter": "python",
   "pygments_lexer": "ipython3",
   "version": "3.12.4"
  }
 },
 "nbformat": 4,
 "nbformat_minor": 5
}
